{
  "nbformat": 4,
  "nbformat_minor": 0,
  "metadata": {
    "colab": {
      "provenance": [],
      "include_colab_link": true
    },
    "kernelspec": {
      "name": "python3",
      "display_name": "Python 3"
    },
    "language_info": {
      "name": "python"
    }
  },
  "cells": [
    {
      "cell_type": "markdown",
      "metadata": {
        "id": "view-in-github",
        "colab_type": "text"
      },
      "source": [
        "<a href=\"https://colab.research.google.com/github/wharry103/Practice-repository/blob/main/EP_Ass_1_ipynb%EC%9D%98_%EC%82%AC%EB%B3%B8.ipynb\" target=\"_parent\"><img src=\"https://colab.research.google.com/assets/colab-badge.svg\" alt=\"Open In Colab\"/></a>"
      ]
    },
    {
      "cell_type": "markdown",
      "source": [
        "# This is Assignment #1 of \"Introduction to Engineering Computer Programming\""
      ],
      "metadata": {
        "id": "ExW3fDnx20Fd"
      }
    },
    {
      "cell_type": "markdown",
      "source": [
        "1. Write a function called `find_largest` that takes a list of integers as input and returns the largest integer in the list. Test your function with a list of integers, `a = [1, 5, 8, 2, 9, 10, 4]`.\n",
        "\n",
        "* hint: use `max` function"
      ],
      "metadata": {
        "id": "bXHCcMMmu9Dl"
      }
    },
    {
      "cell_type": "code",
      "source": [
        "def find_largest(a):\n",
        "  return max(a)\n",
        "a= [1, 5, 8, 2, 9, 10, 4]\n",
        "print(find_largest(a))  "
      ],
      "metadata": {
        "id": "WQct1xF2vXq-",
        "outputId": "a53ea809-aa17-4a61-b58c-c1b8b562a360",
        "colab": {
          "base_uri": "https://localhost:8080/"
        }
      },
      "execution_count": 54,
      "outputs": [
        {
          "output_type": "stream",
          "name": "stdout",
          "text": [
            "10\n"
          ]
        }
      ]
    },
    {
      "cell_type": "markdown",
      "source": [
        "2. Write a function called `count_vowels` that takes a string as input and returns the count of vowels (a, e, i, o, u) in the string. Test your function with `\"Hello World!\"`\n",
        "\n",
        "* hint: use `for` and `if`"
      ],
      "metadata": {
        "id": "7eVyT1ypvQm5"
      }
    },
    {
      "cell_type": "code",
      "source": [
        "def count_vowels(string):\n",
        "  vowels=\"aeiou\"\n",
        "  result=0\n",
        "  for a in string:\n",
        "    if a in vowels:\n",
        "     result=result+1\n",
        "  return result\n",
        "print(count_vowels(\"Hello World!\"))"
      ],
      "metadata": {
        "colab": {
          "base_uri": "https://localhost:8080/"
        },
        "id": "3EkQ6qvkv15R",
        "outputId": "7671a92a-d891-41a0-95b3-d36ea8ac1d5c"
      },
      "execution_count": null,
      "outputs": [
        {
          "output_type": "stream",
          "name": "stdout",
          "text": [
            "3\n"
          ]
        }
      ]
    },
    {
      "cell_type": "markdown",
      "source": [
        "3. Write a function called `convert_temperature` that takes a temperature value in Fahrenheit and converts it to Celsius. The function should return the converted temperature value. Test your function with different Fahrenheit values.\n",
        "\n",
        "* hint: `celsius = (fahrenheit - 32) * 5 / 9`"
      ],
      "metadata": {
        "id": "tBgqsqLpvomE"
      }
    },
    {
      "cell_type": "code",
      "source": [
        "def convert_temperature(fahrenheit):\n",
        " celsius=(fahrenheit-32)*5/9\n",
        " return celsius\n",
        "print(convert_temperature(213))"
      ],
      "metadata": {
        "id": "XhRFdMAGv6Om",
        "outputId": "b5bc2b17-8a6b-4a25-db19-33ab45bb4bae",
        "colab": {
          "base_uri": "https://localhost:8080/"
        }
      },
      "execution_count": null,
      "outputs": [
        {
          "output_type": "stream",
          "name": "stdout",
          "text": [
            "100.55555555555556\n"
          ]
        }
      ]
    },
    {
      "cell_type": "markdown",
      "source": [
        "4. Write a function called grade_calculator that takes a list of student scores as input and returns a list of letter grades (A, B, C, D, or F) based on the following criteria:\n",
        "\n",
        " * A: 90-100\n",
        " * B: 80-89\n",
        " * C: 70-79\n",
        " * D: 60-69\n",
        " * F: 0-59\n",
        "\n",
        "Test your function with a list of student scores, `scores = [85, 92, 75, 60, 45]`.\n",
        "\n",
        " * hint: use `if`, `elif`, and `else`"
      ],
      "metadata": {
        "id": "Ax2N-gBvw6gk"
      }
    },
    {
      "cell_type": "code",
      "source": [
        "def grade_calculator(a):\n",
        "  result=[]\n",
        "  for score in a:\n",
        "   if score >=90:\n",
        "     result.append(\"A\")\n",
        "   elif score >=80:\n",
        "     result.append(\"B\")\n",
        "   elif score >=70:\n",
        "     result.append(\"C\")\n",
        "   elif score >=60:\n",
        "     result.append(\"D\")\n",
        "   else:\n",
        "     result.append(\"F\")\n",
        "  return result\n",
        "a=[85, 92, 75, 60, 45]\n",
        "print(grade_calculator(a))"
      ],
      "metadata": {
        "id": "GDEi8iL7w4ee",
        "outputId": "769ef9c8-d27f-45c6-931e-d148ec71fd12",
        "colab": {
          "base_uri": "https://localhost:8080/"
        }
      },
      "execution_count": 43,
      "outputs": [
        {
          "output_type": "stream",
          "name": "stdout",
          "text": [
            "['B', 'A', 'C', 'D', 'F']\n"
          ]
        }
      ]
    },
    {
      "cell_type": "markdown",
      "source": [
        "5. Write a function called `common_elements` that takes two lists as input and returns a list of the common elements (without duplicates) between the two lists. Test your function with two different pairs of lists, `[1, 3, 5, 7, 9]` and `[2, 3, 4, 5, 6]`.\n",
        "\n",
        "* hint: use `set` and `&`"
      ],
      "metadata": {
        "id": "kSk4V_j4ykJP"
      }
    },
    {
      "cell_type": "code",
      "source": [
        "def common_elements(list1, list2):\n",
        "  return list(set(list1)&set(list2))\n",
        "list1=[1, 3, 5, 7, 9]\n",
        "list2=[2, 3, 4, 5, 6]\n",
        "print(common_elements(list1, list2))"
      ],
      "metadata": {
        "id": "KpO2_1bNyjlD",
        "outputId": "1575ac5b-a80d-4a47-8b88-c5e72e545c57",
        "colab": {
          "base_uri": "https://localhost:8080/"
        }
      },
      "execution_count": null,
      "outputs": [
        {
          "output_type": "stream",
          "name": "stdout",
          "text": [
            "[3, 5]\n"
          ]
        }
      ]
    },
    {
      "cell_type": "markdown",
      "source": [
        "6. Write a Python to check if a given number is even or odd using control statements.\n",
        "\n",
        "* hint: use `num % 2 == 0`"
      ],
      "metadata": {
        "id": "ntSpzCg62pfl"
      }
    },
    {
      "cell_type": "code",
      "source": [
        "num=int(input(\"숫자를 입력하세요:\"))\n",
        "if num % 2 == 0:\n",
        "  print(\"number is even\")\n",
        "else:\n",
        "  print(\"number is odd\")"
      ],
      "metadata": {
        "id": "R_NvgRrj3RKW",
        "colab": {
          "base_uri": "https://localhost:8080/"
        },
        "outputId": "391c28f1-ca34-43c4-e2cf-16cd1af4239f"
      },
      "execution_count": 42,
      "outputs": [
        {
          "output_type": "stream",
          "name": "stdout",
          "text": [
            "숫자를 입력하세요:120\n",
            "number is even\n"
          ]
        }
      ]
    },
    {
      "cell_type": "markdown",
      "source": [
        "7. Write a Python program to find the sum of all elements in a list using loops. Test your program with a list, `numbers = [10, 20, 30, 40, 50]`.\n",
        "\n",
        "* hint: use `for` and `+=`"
      ],
      "metadata": {
        "id": "WBogUGrf3giN"
      }
    },
    {
      "cell_type": "code",
      "source": [
        "numbers=[10, 20, 30, 40, 50]\n",
        "sum=0\n",
        "for a in numbers:\n",
        "  sum += a\n",
        "print(sum)"
      ],
      "metadata": {
        "id": "30e3ku5t31ik",
        "colab": {
          "base_uri": "https://localhost:8080/"
        },
        "outputId": "7cc83c06-3475-43be-df4b-59b119a188c8"
      },
      "execution_count": 3,
      "outputs": [
        {
          "output_type": "stream",
          "name": "stdout",
          "text": [
            "150\n"
          ]
        }
      ]
    },
    {
      "cell_type": "markdown",
      "source": [
        "8. Write a Python program to find the number of digits (자릿수) in a given integer using functions.\n",
        "\n",
        "* hint: for a given integer `num`, use the following code.\n",
        "    \n",
        "```python\n",
        "    while num != 0:\n",
        "        count += 1\n",
        "        num //= 10\n",
        "    return count\n",
        "```\n",
        "* `//` is for Floor division (나눗셈의 몫을 내림, 예 7 // 2 = 3)"
      ],
      "metadata": {
        "id": "EUJQSZCv4c35"
      }
    },
    {
      "cell_type": "code",
      "source": [
        "num=int(input(\"숫자를 입력하세요:\"))\n",
        "def count_digits(num):\n",
        "  count=0\n",
        "  while num != 0:\n",
        "    count += 1\n",
        "    num //=10\n",
        "  return count\n",
        "print(count_digits(num))"
      ],
      "metadata": {
        "id": "x7dsB2PZ4L_T",
        "colab": {
          "base_uri": "https://localhost:8080/"
        },
        "outputId": "6a2996cd-e506-45fe-e7c1-cf2441a7042a"
      },
      "execution_count": 57,
      "outputs": [
        {
          "output_type": "stream",
          "name": "stdout",
          "text": [
            "숫자를 입력하세요:312312\n",
            "6\n"
          ]
        }
      ]
    },
    {
      "cell_type": "markdown",
      "source": [
        "9. Complete the following Python program to reverse a given string using loops.\n",
        "\n",
        "* hint: read each character from the string by using `for` and add (`+`) one by one in sequence."
      ],
      "metadata": {
        "id": "lWHVIEjOA3bV"
      }
    },
    {
      "cell_type": "code",
      "source": [
        "# Complete the following python code and prouce the result\n",
        "\n",
        "string = input(\"Enter a string: \")\n",
        "reverse = \"\"\n",
        "for char in string:\n",
        "    ### write a code here ###\n",
        "    \n",
        "print(\"Reverse of the string:\", reverse)"
      ],
      "metadata": {
        "id": "3qBhrc1wBj2T",
        "colab": {
          "base_uri": "https://localhost:8080/",
          "height": 135
        },
        "outputId": "b243879d-42ef-460d-bee9-13584ce8f2d3"
      },
      "execution_count": 1,
      "outputs": [
        {
          "output_type": "error",
          "ename": "IndentationError",
          "evalue": "ignored",
          "traceback": [
            "\u001b[0;36m  File \u001b[0;32m\"<ipython-input-1-6152fe24a23f>\"\u001b[0;36m, line \u001b[0;32m8\u001b[0m\n\u001b[0;31m    print(\"Reverse of the string:\", reverse)\u001b[0m\n\u001b[0m    ^\u001b[0m\n\u001b[0;31mIndentationError\u001b[0m\u001b[0;31m:\u001b[0m expected an indented block\n"
          ]
        }
      ]
    },
    {
      "cell_type": "code",
      "source": [
        "string=input(\"Enter a string: \")\n",
        "reverse=\"\"\n",
        "for char in string:\n",
        "  reverse= char+reverse\n",
        "print(\"Reverse of the string:\", reverse)"
      ],
      "metadata": {
        "colab": {
          "base_uri": "https://localhost:8080/"
        },
        "id": "q0VDlbxB1BLO",
        "outputId": "c814f1e5-a467-4f2f-c307-9c778c428bc5"
      },
      "execution_count": 50,
      "outputs": [
        {
          "output_type": "stream",
          "name": "stdout",
          "text": [
            "Enter a string: 123\n",
            "Reverse of the string: 321\n"
          ]
        }
      ]
    },
    {
      "cell_type": "markdown",
      "source": [
        "10. Write a function called `is_perfect_square` that check if a given number is a perfect square (완전제곱수) or not. Test your function with different numbers.\n",
        "\n",
        "* hint: use `sqrt` (제곱근) from `math` and check if the number has decimal points or not."
      ],
      "metadata": {
        "id": "6V5Fma7PCUMd"
      }
    },
    {
      "cell_type": "code",
      "source": [
        "# Complete the following python code and prouce the result\n",
        "\n",
        "import math\n",
        "\n",
        "def is_perfect_square(num):\n",
        "    sqrt = math.sqrt(num)"
      ],
      "metadata": {
        "id": "uzrOFUHEDdE2"
      },
      "execution_count": null,
      "outputs": []
    },
    {
      "cell_type": "code",
      "source": [
        "import math\n",
        "def is_perfect_square(num):\n",
        "  sqrt = math.sqrt(num)\n",
        "  if sqrt:\n",
        "    return (\"number is a perfect square\")\n",
        "  else:\n",
        "    return (\"number is not a perfect square\")\n",
        "print(is_perfect_square(0))"
      ],
      "metadata": {
        "colab": {
          "base_uri": "https://localhost:8080/"
        },
        "id": "1ZjbqSAa5IUD",
        "outputId": "8e24e2b5-ad2f-4683-ab81-23c189f4c9b8"
      },
      "execution_count": 56,
      "outputs": [
        {
          "output_type": "stream",
          "name": "stdout",
          "text": [
            "number is not a perfect square\n"
          ]
        }
      ]
    }
  ]
}