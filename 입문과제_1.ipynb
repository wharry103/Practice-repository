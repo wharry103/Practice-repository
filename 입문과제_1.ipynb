{
  "nbformat": 4,
  "nbformat_minor": 0,
  "metadata": {
    "colab": {
      "provenance": [],
      "authorship_tag": "ABX9TyOfrBlEoXYjIztfeatxW0LV",
      "include_colab_link": true
    },
    "kernelspec": {
      "name": "python3",
      "display_name": "Python 3"
    },
    "language_info": {
      "name": "python"
    }
  },
  "cells": [
    {
      "cell_type": "markdown",
      "metadata": {
        "id": "view-in-github",
        "colab_type": "text"
      },
      "source": [
        "<a href=\"https://colab.research.google.com/github/wharry103/Practice-repository/blob/main/%EC%9E%85%EB%AC%B8%EA%B3%BC%EC%A0%9C_1.ipynb\" target=\"_parent\"><img src=\"https://colab.research.google.com/assets/colab-badge.svg\" alt=\"Open In Colab\"/></a>"
      ]
    },
    {
      "cell_type": "markdown",
      "source": [
        "1. Write a function called find_largest that takes a list of integers as input and returns the largest integer in the list. Test your function with a list of integers, a = [1, 5, 8, 2, 9, 10, 4].\n",
        "hint: use max function"
      ],
      "metadata": {
        "id": "Oo4J_AY6lGis"
      }
    },
    {
      "cell_type": "code",
      "source": [
        "def find_largest(a):\n",
        "  return max(a)\n",
        "a= [1, 5, 8, 2, 9, 10, 4]\n",
        "print(find_largest(a))  "
      ],
      "metadata": {
        "colab": {
          "base_uri": "https://localhost:8080/"
        },
        "id": "MeycbkG5lH_i",
        "outputId": "4639cfca-5fe2-4016-e611-bf7829697f96"
      },
      "execution_count": 1,
      "outputs": [
        {
          "output_type": "stream",
          "name": "stdout",
          "text": [
            "10\n"
          ]
        }
      ]
    },
    {
      "cell_type": "markdown",
      "source": [
        "2. Write a function called count_vowels that takes a string as input and returns the count of vowels (a, e, i, o, u) in the string. Test your function with \"Hello World!\"\n",
        "hint: use for and if"
      ],
      "metadata": {
        "id": "GCRmPDKolINo"
      }
    },
    {
      "cell_type": "code",
      "source": [
        "def count_vowels(string):\n",
        "  vowels=\"aeiou\"\n",
        "  result=0\n",
        "  for a in string:\n",
        "    if a in vowels:\n",
        "     result=result+1\n",
        "  return result\n",
        "print(count_vowels(\"Hello World!\"))"
      ],
      "metadata": {
        "colab": {
          "base_uri": "https://localhost:8080/"
        },
        "id": "qdAvM01ClIbz",
        "outputId": "75eeea28-a893-4350-d958-74c124440ed1"
      },
      "execution_count": 2,
      "outputs": [
        {
          "output_type": "stream",
          "name": "stdout",
          "text": [
            "3\n"
          ]
        }
      ]
    },
    {
      "cell_type": "markdown",
      "source": [
        "3. Write a function called convert_temperature that takes a temperature value in Fahrenheit and converts it to Celsius. The function should return the converted temperature value. Test your function with different Fahrenheit values.\n",
        "hint: celsius = (fahrenheit - 32) * 5 / 9"
      ],
      "metadata": {
        "id": "IU3EQmOplIte"
      }
    },
    {
      "cell_type": "code",
      "source": [
        "def convert_temperature(fahrenheit):\n",
        " celsius=(fahrenheit-32)*5/9\n",
        " return celsius\n",
        "print(convert_temperature(213))"
      ],
      "metadata": {
        "colab": {
          "base_uri": "https://localhost:8080/"
        },
        "id": "1PD_mZ70loFB",
        "outputId": "b88a9dda-ea86-4d9d-9257-a56b5fafdd78"
      },
      "execution_count": 3,
      "outputs": [
        {
          "output_type": "stream",
          "name": "stdout",
          "text": [
            "100.55555555555556\n"
          ]
        }
      ]
    },
    {
      "cell_type": "markdown",
      "source": [
        "4. Write a function called grade_calculator that takes a list of student scores as input and returns a list of letter grades (A, B, C, D, or F) based on the following criteria:\n",
        "\n",
        "A: 90-100\n",
        "B: 80-89\n",
        "C: 70-79\n",
        "D: 60-69\n",
        "F: 0-59\n",
        "Test your function with a list of student scores, scores = [85, 92, 75, 60, 45].\n",
        "\n",
        "hint: use if, elif, and else"
      ],
      "metadata": {
        "id": "WeEG4YdQlkFK"
      }
    },
    {
      "cell_type": "code",
      "source": [
        "def grade_calculator(a):\n",
        "  result=[]\n",
        "  for score in a:\n",
        "   if score >=90:\n",
        "     result.append(\"A\")\n",
        "   elif score >=80:\n",
        "     result.append(\"B\")\n",
        "   elif score >=70:\n",
        "     result.append(\"C\")\n",
        "   elif score >=60:\n",
        "     result.append(\"D\")\n",
        "   else:\n",
        "     result.append(\"F\")\n",
        "  return result\n",
        "a=[85, 92, 75, 60, 45]\n",
        "print(grade_calculator(a))"
      ],
      "metadata": {
        "colab": {
          "base_uri": "https://localhost:8080/"
        },
        "id": "VNWq-CZmlk00",
        "outputId": "451f58c4-2a60-4513-fa5d-6e1aa1341b42"
      },
      "execution_count": 4,
      "outputs": [
        {
          "output_type": "stream",
          "name": "stdout",
          "text": [
            "['B', 'A', 'C', 'D', 'F']\n"
          ]
        }
      ]
    },
    {
      "cell_type": "markdown",
      "source": [
        "5. Write a function called common_elements that takes two lists as input and returns a list of the common elements (without duplicates) between the two lists. Test your function with two different pairs of lists, [1, 3, 5, 7, 9] and [2, 3, 4, 5, 6].\n",
        "hint: use set and &"
      ],
      "metadata": {
        "id": "-fwpZzsklJjF"
      }
    },
    {
      "cell_type": "code",
      "source": [
        "def common_elements(list1, list2):\n",
        "  return list(set(list1)&set(list2))\n",
        "list1=[1, 3, 5, 7, 9]\n",
        "list2=[2, 3, 4, 5, 6]\n",
        "print(common_elements(list1, list2))"
      ],
      "metadata": {
        "colab": {
          "base_uri": "https://localhost:8080/"
        },
        "id": "x9WV5XYrlJux",
        "outputId": "2b1b1a4d-3884-4f5c-83f1-3152b960dce3"
      },
      "execution_count": 5,
      "outputs": [
        {
          "output_type": "stream",
          "name": "stdout",
          "text": [
            "[3, 5]\n"
          ]
        }
      ]
    },
    {
      "cell_type": "markdown",
      "source": [
        "6. Write a Python to check if a given number is even or odd using control statements.\n",
        "hint: use num % 2 == 0"
      ],
      "metadata": {
        "id": "r8lKFwU_lK8e"
      }
    },
    {
      "cell_type": "code",
      "source": [
        "num=int(input(\"숫자를 입력하세요:\"))\n",
        "if num % 2 == 0:\n",
        "  print(\"number is even\")\n",
        "else:\n",
        "  print(\"number is odd\")"
      ],
      "metadata": {
        "colab": {
          "base_uri": "https://localhost:8080/"
        },
        "id": "EtLNQo3qlLMh",
        "outputId": "c24540f3-c50e-4127-98aa-c906a76d5269"
      },
      "execution_count": 6,
      "outputs": [
        {
          "output_type": "stream",
          "name": "stdout",
          "text": [
            "숫자를 입력하세요:12\n",
            "number is even\n"
          ]
        }
      ]
    },
    {
      "cell_type": "markdown",
      "source": [
        "7. Write a Python program to find the sum of all elements in a list using loops. Test your program with a list, numbers = [10, 20, 30, 40, 50].\n",
        "hint: use for and +="
      ],
      "metadata": {
        "id": "c_vGwn_slLa4"
      }
    },
    {
      "cell_type": "code",
      "source": [
        "numbers=[10, 20, 30, 40, 50]\n",
        "sum=0\n",
        "for a in numbers:\n",
        "  sum += a\n",
        "print(sum)"
      ],
      "metadata": {
        "colab": {
          "base_uri": "https://localhost:8080/"
        },
        "id": "JFf9HE82lLo8",
        "outputId": "e0b1de14-413b-496d-cfb0-d05f878a7992"
      },
      "execution_count": 7,
      "outputs": [
        {
          "output_type": "stream",
          "name": "stdout",
          "text": [
            "150\n"
          ]
        }
      ]
    },
    {
      "cell_type": "markdown",
      "source": [
        "8. Write a Python program to find the number of digits (자릿수) in a given integer using functions.\n",
        "hint: for a given integer num, use the following code."
      ],
      "metadata": {
        "id": "A2MQbCyDlL2-"
      }
    },
    {
      "cell_type": "code",
      "source": [
        "num=int(input(\"숫자를 입력하세요:\"))\n",
        "def count_digits(num):\n",
        "  count=0\n",
        "  while num != 0:\n",
        "    count += 1\n",
        "    num //=10\n",
        "  return count\n",
        "print(count_digits(num))"
      ],
      "metadata": {
        "colab": {
          "base_uri": "https://localhost:8080/"
        },
        "id": "7PJ975Q1lMCd",
        "outputId": "2453cdaa-eec7-4342-eb96-623d96ebf994"
      },
      "execution_count": 8,
      "outputs": [
        {
          "output_type": "stream",
          "name": "stdout",
          "text": [
            "숫자를 입력하세요:1234\n",
            "4\n"
          ]
        }
      ]
    },
    {
      "cell_type": "markdown",
      "source": [
        "9. Complete the following Python program to reverse a given string using loops.\n",
        "hint: read each character from the string by using for and add (+) one by one in sequence."
      ],
      "metadata": {
        "id": "dxdsBvSslMQR"
      }
    },
    {
      "cell_type": "code",
      "source": [
        "string=input(\"Enter a string: \")\n",
        "reverse=\"\"\n",
        "for char in string:\n",
        "  reverse= char+reverse\n",
        "print(\"Reverse of the string:\", reverse)"
      ],
      "metadata": {
        "colab": {
          "base_uri": "https://localhost:8080/"
        },
        "id": "sGqRcDdflMeC",
        "outputId": "ee93ca55-829a-457d-bf65-f6738248e732"
      },
      "execution_count": 9,
      "outputs": [
        {
          "output_type": "stream",
          "name": "stdout",
          "text": [
            "Enter a string: abc\n",
            "Reverse of the string: cba\n"
          ]
        }
      ]
    },
    {
      "cell_type": "markdown",
      "source": [
        "10. Write a function called is_perfect_square that check if a given number is a perfect square (완전제곱수) or not. Test your function with different numbers.\n",
        "hint: use sqrt (제곱근) from math and check if the number has decimal points or not."
      ],
      "metadata": {
        "id": "XW4ZIX7QlMsf"
      }
    },
    {
      "cell_type": "code",
      "source": [
        "import math\n",
        "def is_perfect_square(num):\n",
        "  sqrt = math.sqrt(num)\n",
        "  if int(sqrt)**2==num:\n",
        "    return (\"number is a perfect square.\")\n",
        "  else:\n",
        "    return (\"number is not a perfect square\")\n",
        "print(is_perfect_square(5))\n",
        "print(is_perfect_square(4))"
      ],
      "metadata": {
        "colab": {
          "base_uri": "https://localhost:8080/"
        },
        "id": "pbqJ6RTUlM58",
        "outputId": "08b5d1a4-d986-4380-fa2b-40f85572f0b2"
      },
      "execution_count": 10,
      "outputs": [
        {
          "output_type": "stream",
          "name": "stdout",
          "text": [
            "number is not a perfect square\n",
            "number is a perfect square.\n"
          ]
        }
      ]
    }
  ]
}