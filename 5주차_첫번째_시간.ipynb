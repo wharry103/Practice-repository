{
  "nbformat": 4,
  "nbformat_minor": 0,
  "metadata": {
    "colab": {
      "provenance": [],
      "authorship_tag": "ABX9TyOQUaLY2mcDZcIPCMdXGpHM",
      "include_colab_link": true
    },
    "kernelspec": {
      "name": "python3",
      "display_name": "Python 3"
    },
    "language_info": {
      "name": "python"
    }
  },
  "cells": [
    {
      "cell_type": "markdown",
      "metadata": {
        "id": "view-in-github",
        "colab_type": "text"
      },
      "source": [
        "<a href=\"https://colab.research.google.com/github/wharry103/Practice-repository/blob/main/5%EC%A3%BC%EC%B0%A8_%EC%B2%AB%EB%B2%88%EC%A7%B8_%EC%8B%9C%EA%B0%84.ipynb\" target=\"_parent\"><img src=\"https://colab.research.google.com/assets/colab-badge.svg\" alt=\"Open In Colab\"/></a>"
      ]
    },
    {
      "cell_type": "code",
      "execution_count": 8,
      "metadata": {
        "colab": {
          "base_uri": "https://localhost:8080/"
        },
        "id": "XAjWQYBgtu6G",
        "outputId": "0e7e4eee-aed2-402d-b4d7-fbf895cd6a55"
      },
      "outputs": [
        {
          "output_type": "stream",
          "name": "stdout",
          "text": [
            "Mounted at /content/gdrive\n"
          ]
        }
      ],
      "source": [
        "from google. colab import drive\n",
        "drive.mount('/content/gdrive')"
      ]
    },
    {
      "cell_type": "markdown",
      "source": [
        "(1)코랩에 드라이브를 껴주는 과정 "
      ],
      "metadata": {
        "id": "MLgg4epvzAhO"
      }
    },
    {
      "cell_type": "code",
      "source": [
        "import os\n",
        "path='/content/gdrive/MyDrive/temp_files'\n",
        "os.makedirs(path, exist_ok=True)"
      ],
      "metadata": {
        "id": "Ccra6Fewv7CE"
      },
      "execution_count": 9,
      "outputs": []
    },
    {
      "cell_type": "markdown",
      "source": [
        "path=경로 (2)폴더를 만들어주는 과정 "
      ],
      "metadata": {
        "id": "r1nS6dDhzHKz"
      }
    },
    {
      "cell_type": "code",
      "source": [
        "cwd=os.getcwd()\n",
        "print(cwd)"
      ],
      "metadata": {
        "colab": {
          "base_uri": "https://localhost:8080/"
        },
        "id": "DnkiZXGQwcEe",
        "outputId": "a569fd73-712b-4637-8b67-55a7f59a0e4b"
      },
      "execution_count": 10,
      "outputs": [
        {
          "output_type": "stream",
          "name": "stdout",
          "text": [
            "/content\n"
          ]
        }
      ]
    },
    {
      "cell_type": "markdown",
      "source": [
        "(3)작업폴더를 저장하는 과정\n",
        "컨텐츠 폴더=working directory"
      ],
      "metadata": {
        "id": "qP6evg-X0OPs"
      }
    },
    {
      "cell_type": "code",
      "source": [
        "os.chdir(path)\n",
        "cwd=os.getcwd()\n",
        "print(cwd)"
      ],
      "metadata": {
        "colab": {
          "base_uri": "https://localhost:8080/"
        },
        "id": "e-Q1XwlEwuc8",
        "outputId": "93dfe784-41c9-49f9-b157-8ca4253ebfa9"
      },
      "execution_count": 11,
      "outputs": [
        {
          "output_type": "stream",
          "name": "stdout",
          "text": [
            "/content/gdrive/MyDrive/temp_files\n"
          ]
        }
      ]
    },
    {
      "cell_type": "markdown",
      "source": [
        "(4)"
      ],
      "metadata": {
        "id": "1elWmQcV1W3V"
      }
    },
    {
      "cell_type": "code",
      "source": [
        "from google.colab import files\n",
        "uploaded=files.upload()"
      ],
      "metadata": {
        "colab": {
          "base_uri": "https://localhost:8080/",
          "height": 76
        },
        "id": "ccoENvrKw5z4",
        "outputId": "b43e8338-79dd-461e-b4dc-dde96b827e0d"
      },
      "execution_count": 12,
      "outputs": [
        {
          "output_type": "display_data",
          "data": {
            "text/plain": [
              "<IPython.core.display.HTML object>"
            ],
            "text/html": [
              "\n",
              "     <input type=\"file\" id=\"files-fb20923b-761c-4f3b-8d6a-c43253f7c0b3\" name=\"files[]\" multiple disabled\n",
              "        style=\"border:none\" />\n",
              "     <output id=\"result-fb20923b-761c-4f3b-8d6a-c43253f7c0b3\">\n",
              "      Upload widget is only available when the cell has been executed in the\n",
              "      current browser session. Please rerun this cell to enable.\n",
              "      </output>\n",
              "      <script>// Copyright 2017 Google LLC\n",
              "//\n",
              "// Licensed under the Apache License, Version 2.0 (the \"License\");\n",
              "// you may not use this file except in compliance with the License.\n",
              "// You may obtain a copy of the License at\n",
              "//\n",
              "//      http://www.apache.org/licenses/LICENSE-2.0\n",
              "//\n",
              "// Unless required by applicable law or agreed to in writing, software\n",
              "// distributed under the License is distributed on an \"AS IS\" BASIS,\n",
              "// WITHOUT WARRANTIES OR CONDITIONS OF ANY KIND, either express or implied.\n",
              "// See the License for the specific language governing permissions and\n",
              "// limitations under the License.\n",
              "\n",
              "/**\n",
              " * @fileoverview Helpers for google.colab Python module.\n",
              " */\n",
              "(function(scope) {\n",
              "function span(text, styleAttributes = {}) {\n",
              "  const element = document.createElement('span');\n",
              "  element.textContent = text;\n",
              "  for (const key of Object.keys(styleAttributes)) {\n",
              "    element.style[key] = styleAttributes[key];\n",
              "  }\n",
              "  return element;\n",
              "}\n",
              "\n",
              "// Max number of bytes which will be uploaded at a time.\n",
              "const MAX_PAYLOAD_SIZE = 100 * 1024;\n",
              "\n",
              "function _uploadFiles(inputId, outputId) {\n",
              "  const steps = uploadFilesStep(inputId, outputId);\n",
              "  const outputElement = document.getElementById(outputId);\n",
              "  // Cache steps on the outputElement to make it available for the next call\n",
              "  // to uploadFilesContinue from Python.\n",
              "  outputElement.steps = steps;\n",
              "\n",
              "  return _uploadFilesContinue(outputId);\n",
              "}\n",
              "\n",
              "// This is roughly an async generator (not supported in the browser yet),\n",
              "// where there are multiple asynchronous steps and the Python side is going\n",
              "// to poll for completion of each step.\n",
              "// This uses a Promise to block the python side on completion of each step,\n",
              "// then passes the result of the previous step as the input to the next step.\n",
              "function _uploadFilesContinue(outputId) {\n",
              "  const outputElement = document.getElementById(outputId);\n",
              "  const steps = outputElement.steps;\n",
              "\n",
              "  const next = steps.next(outputElement.lastPromiseValue);\n",
              "  return Promise.resolve(next.value.promise).then((value) => {\n",
              "    // Cache the last promise value to make it available to the next\n",
              "    // step of the generator.\n",
              "    outputElement.lastPromiseValue = value;\n",
              "    return next.value.response;\n",
              "  });\n",
              "}\n",
              "\n",
              "/**\n",
              " * Generator function which is called between each async step of the upload\n",
              " * process.\n",
              " * @param {string} inputId Element ID of the input file picker element.\n",
              " * @param {string} outputId Element ID of the output display.\n",
              " * @return {!Iterable<!Object>} Iterable of next steps.\n",
              " */\n",
              "function* uploadFilesStep(inputId, outputId) {\n",
              "  const inputElement = document.getElementById(inputId);\n",
              "  inputElement.disabled = false;\n",
              "\n",
              "  const outputElement = document.getElementById(outputId);\n",
              "  outputElement.innerHTML = '';\n",
              "\n",
              "  const pickedPromise = new Promise((resolve) => {\n",
              "    inputElement.addEventListener('change', (e) => {\n",
              "      resolve(e.target.files);\n",
              "    });\n",
              "  });\n",
              "\n",
              "  const cancel = document.createElement('button');\n",
              "  inputElement.parentElement.appendChild(cancel);\n",
              "  cancel.textContent = 'Cancel upload';\n",
              "  const cancelPromise = new Promise((resolve) => {\n",
              "    cancel.onclick = () => {\n",
              "      resolve(null);\n",
              "    };\n",
              "  });\n",
              "\n",
              "  // Wait for the user to pick the files.\n",
              "  const files = yield {\n",
              "    promise: Promise.race([pickedPromise, cancelPromise]),\n",
              "    response: {\n",
              "      action: 'starting',\n",
              "    }\n",
              "  };\n",
              "\n",
              "  cancel.remove();\n",
              "\n",
              "  // Disable the input element since further picks are not allowed.\n",
              "  inputElement.disabled = true;\n",
              "\n",
              "  if (!files) {\n",
              "    return {\n",
              "      response: {\n",
              "        action: 'complete',\n",
              "      }\n",
              "    };\n",
              "  }\n",
              "\n",
              "  for (const file of files) {\n",
              "    const li = document.createElement('li');\n",
              "    li.append(span(file.name, {fontWeight: 'bold'}));\n",
              "    li.append(span(\n",
              "        `(${file.type || 'n/a'}) - ${file.size} bytes, ` +\n",
              "        `last modified: ${\n",
              "            file.lastModifiedDate ? file.lastModifiedDate.toLocaleDateString() :\n",
              "                                    'n/a'} - `));\n",
              "    const percent = span('0% done');\n",
              "    li.appendChild(percent);\n",
              "\n",
              "    outputElement.appendChild(li);\n",
              "\n",
              "    const fileDataPromise = new Promise((resolve) => {\n",
              "      const reader = new FileReader();\n",
              "      reader.onload = (e) => {\n",
              "        resolve(e.target.result);\n",
              "      };\n",
              "      reader.readAsArrayBuffer(file);\n",
              "    });\n",
              "    // Wait for the data to be ready.\n",
              "    let fileData = yield {\n",
              "      promise: fileDataPromise,\n",
              "      response: {\n",
              "        action: 'continue',\n",
              "      }\n",
              "    };\n",
              "\n",
              "    // Use a chunked sending to avoid message size limits. See b/62115660.\n",
              "    let position = 0;\n",
              "    do {\n",
              "      const length = Math.min(fileData.byteLength - position, MAX_PAYLOAD_SIZE);\n",
              "      const chunk = new Uint8Array(fileData, position, length);\n",
              "      position += length;\n",
              "\n",
              "      const base64 = btoa(String.fromCharCode.apply(null, chunk));\n",
              "      yield {\n",
              "        response: {\n",
              "          action: 'append',\n",
              "          file: file.name,\n",
              "          data: base64,\n",
              "        },\n",
              "      };\n",
              "\n",
              "      let percentDone = fileData.byteLength === 0 ?\n",
              "          100 :\n",
              "          Math.round((position / fileData.byteLength) * 100);\n",
              "      percent.textContent = `${percentDone}% done`;\n",
              "\n",
              "    } while (position < fileData.byteLength);\n",
              "  }\n",
              "\n",
              "  // All done.\n",
              "  yield {\n",
              "    response: {\n",
              "      action: 'complete',\n",
              "    }\n",
              "  };\n",
              "}\n",
              "\n",
              "scope.google = scope.google || {};\n",
              "scope.google.colab = scope.google.colab || {};\n",
              "scope.google.colab._files = {\n",
              "  _uploadFiles,\n",
              "  _uploadFilesContinue,\n",
              "};\n",
              "})(self);\n",
              "</script> "
            ]
          },
          "metadata": {}
        },
        {
          "output_type": "stream",
          "name": "stdout",
          "text": [
            "Saving newfile.txt to newfile (1).txt\n"
          ]
        }
      ]
    },
    {
      "cell_type": "code",
      "source": [
        "cwd=os.getcwd()\n",
        "filename=\"newfile.txt\"\n",
        "\n",
        "full_path=os.path.join(cwd, filename)\n",
        "print(full_path)"
      ],
      "metadata": {
        "colab": {
          "base_uri": "https://localhost:8080/"
        },
        "id": "pW16RzbK3e7C",
        "outputId": "1c5481d0-4855-4028-e361-ec2b4046fb5c"
      },
      "execution_count": 13,
      "outputs": [
        {
          "output_type": "stream",
          "name": "stdout",
          "text": [
            "/content/gdrive/MyDrive/temp_files/newfile.txt\n"
          ]
        }
      ]
    },
    {
      "cell_type": "markdown",
      "source": [
        "파일 이름 설정 및 저장"
      ],
      "metadata": {
        "id": "GUuh7MX8CLQb"
      }
    },
    {
      "cell_type": "code",
      "source": [
        "f=open(full_path, 'r')\n",
        "line=f.readline()\n",
        "print(line)\n",
        "f.close"
      ],
      "metadata": {
        "colab": {
          "base_uri": "https://localhost:8080/"
        },
        "id": "LofISpmm31YJ",
        "outputId": "3a625824-d778-456e-ed7d-50e6a4b1d45e"
      },
      "execution_count": 14,
      "outputs": [
        {
          "output_type": "stream",
          "name": "stdout",
          "text": [
            "Line 1\n",
            "\n"
          ]
        },
        {
          "output_type": "execute_result",
          "data": {
            "text/plain": [
              "<function TextIOWrapper.close()>"
            ]
          },
          "metadata": {},
          "execution_count": 14
        }
      ]
    },
    {
      "cell_type": "markdown",
      "source": [
        "full path에 있는 파일을 열기"
      ],
      "metadata": {
        "id": "cNJCYrSOCQFw"
      }
    },
    {
      "cell_type": "code",
      "source": [
        "f=open(full_path, 'r')\n",
        "while True:\n",
        "  line=f.readline()\n",
        "  if not line: break\n",
        "  print(line)\n",
        "f.close()"
      ],
      "metadata": {
        "colab": {
          "base_uri": "https://localhost:8080/"
        },
        "id": "07nMdueE4CHQ",
        "outputId": "72a953a3-3df2-4d27-bb7b-2a5f8aa59b6e"
      },
      "execution_count": 15,
      "outputs": [
        {
          "output_type": "stream",
          "name": "stdout",
          "text": [
            "Line 1\n",
            "\n",
            "Line 2\n",
            "\n",
            "Line 3\n",
            "\n",
            "Line 4\n",
            "\n",
            "Line 5\n",
            "\n",
            "Line 6\n",
            "\n",
            "Line 7\n",
            "\n",
            "Line 8\n",
            "\n",
            "Line 9\n",
            "\n",
            "Line 10\n",
            "\n"
          ]
        }
      ]
    },
    {
      "cell_type": "markdown",
      "source": [
        "f(객체)를 한꺼번에 읽기"
      ],
      "metadata": {
        "id": "3F3B2nDECkkA"
      }
    },
    {
      "cell_type": "code",
      "source": [
        "f=open(full_path, 'r')\n",
        "lines=f.readlines()\n",
        "print(type(lines))\n",
        "print(lines)\n",
        "for line in lines:\n",
        "  print(line)\n",
        "f.close()"
      ],
      "metadata": {
        "colab": {
          "base_uri": "https://localhost:8080/"
        },
        "id": "89ag2pQu6kru",
        "outputId": "1d52c279-d6d5-4b2a-c1fb-74c67e8dd0f2"
      },
      "execution_count": 16,
      "outputs": [
        {
          "output_type": "stream",
          "name": "stdout",
          "text": [
            "<class 'list'>\n",
            "['Line 1\\n', 'Line 2\\n', 'Line 3\\n', 'Line 4\\n', 'Line 5\\n', 'Line 6\\n', 'Line 7\\n', 'Line 8\\n', 'Line 9\\n', 'Line 10\\n']\n",
            "Line 1\n",
            "\n",
            "Line 2\n",
            "\n",
            "Line 3\n",
            "\n",
            "Line 4\n",
            "\n",
            "Line 5\n",
            "\n",
            "Line 6\n",
            "\n",
            "Line 7\n",
            "\n",
            "Line 8\n",
            "\n",
            "Line 9\n",
            "\n",
            "Line 10\n",
            "\n"
          ]
        }
      ]
    },
    {
      "cell_type": "code",
      "source": [
        "f=open(full_path, 'r')\n",
        "data=f.read()\n",
        "print(type(data))\n",
        "print(data)\n",
        "f.close"
      ],
      "metadata": {
        "colab": {
          "base_uri": "https://localhost:8080/"
        },
        "id": "dH1UsEDF63wF",
        "outputId": "0f24aa50-5a0d-477a-d405-876402f9524f"
      },
      "execution_count": 17,
      "outputs": [
        {
          "output_type": "stream",
          "name": "stdout",
          "text": [
            "<class 'str'>\n",
            "Line 1\n",
            "Line 2\n",
            "Line 3\n",
            "Line 4\n",
            "Line 5\n",
            "Line 6\n",
            "Line 7\n",
            "Line 8\n",
            "Line 9\n",
            "Line 10\n",
            "\n"
          ]
        },
        {
          "output_type": "execute_result",
          "data": {
            "text/plain": [
              "<function TextIOWrapper.close()>"
            ]
          },
          "metadata": {},
          "execution_count": 17
        }
      ]
    },
    {
      "cell_type": "markdown",
      "source": [
        "데이터를 프린트하는 과정"
      ],
      "metadata": {
        "id": "ufaryWJ5C-ID"
      }
    },
    {
      "cell_type": "code",
      "source": [
        "f=open(\"newfile2.txt\", \"w\")\n",
        "for i in range(1,11):\n",
        "  f.write('New Line{}\\n'.format(i))\n",
        "f.close()"
      ],
      "metadata": {
        "id": "MuTzK78R7Lha"
      },
      "execution_count": 18,
      "outputs": []
    },
    {
      "cell_type": "code",
      "source": [
        "cwd=os.getcwd()\n",
        "filename=\"newfile2.txt\"\n",
        "full_path=os.path.join(cwd, filename)\n",
        "print(full_path)"
      ],
      "metadata": {
        "colab": {
          "base_uri": "https://localhost:8080/"
        },
        "id": "4p-B3OxVENbP",
        "outputId": "0738bc4d-0472-4367-f1cd-74ec1e49790c"
      },
      "execution_count": 19,
      "outputs": [
        {
          "output_type": "stream",
          "name": "stdout",
          "text": [
            "/content/gdrive/MyDrive/temp_files/newfile2.txt\n"
          ]
        }
      ]
    },
    {
      "cell_type": "code",
      "source": [
        "f=open(full_path, 'r')\n",
        "lines=f.readlines()\n",
        "print(type(lines))\n",
        "print(lines)\n",
        "for line in lines:\n",
        "  print(line)\n",
        "f.close()"
      ],
      "metadata": {
        "colab": {
          "base_uri": "https://localhost:8080/"
        },
        "id": "k1B8yI7vGfbR",
        "outputId": "a2068602-1b25-45fd-d9fc-f46b79d0447e"
      },
      "execution_count": 20,
      "outputs": [
        {
          "output_type": "stream",
          "name": "stdout",
          "text": [
            "<class 'list'>\n",
            "['New Line1\\n', 'New Line2\\n', 'New Line3\\n', 'New Line4\\n', 'New Line5\\n', 'New Line6\\n', 'New Line7\\n', 'New Line8\\n', 'New Line9\\n', 'New Line10\\n']\n",
            "New Line1\n",
            "\n",
            "New Line2\n",
            "\n",
            "New Line3\n",
            "\n",
            "New Line4\n",
            "\n",
            "New Line5\n",
            "\n",
            "New Line6\n",
            "\n",
            "New Line7\n",
            "\n",
            "New Line8\n",
            "\n",
            "New Line9\n",
            "\n",
            "New Line10\n",
            "\n"
          ]
        }
      ]
    },
    {
      "cell_type": "code",
      "source": [
        "f=open(full_path, 'a')\n",
        "for i in range(11,21):\n",
        "  f.write('New Line{}\\n'.format(i))\n",
        "f.close()"
      ],
      "metadata": {
        "id": "uF9dT-_KMNtK"
      },
      "execution_count": 29,
      "outputs": []
    },
    {
      "cell_type": "code",
      "source": [
        "f=open(full_path, 'r')\n",
        "lines=f.readlines()\n",
        "print(type(lines))\n",
        "print(lines)\n",
        "for line in lines:\n",
        "  print(line)\n",
        "f.close()"
      ],
      "metadata": {
        "colab": {
          "base_uri": "https://localhost:8080/"
        },
        "id": "xurtxAf5Mixl",
        "outputId": "8eacb6d0-0fba-4093-bf13-d2ff30be49b8"
      },
      "execution_count": 28,
      "outputs": [
        {
          "output_type": "stream",
          "name": "stdout",
          "text": [
            "<class 'list'>\n",
            "['New Line1\\n', 'New Line2\\n', 'New Line3\\n', 'New Line4\\n', 'New Line5\\n', 'New Line6\\n', 'New Line7\\n', 'New Line8\\n', 'New Line9\\n', 'New Line10\\n']\n",
            "New Line1\n",
            "\n",
            "New Line2\n",
            "\n",
            "New Line3\n",
            "\n",
            "New Line4\n",
            "\n",
            "New Line5\n",
            "\n",
            "New Line6\n",
            "\n",
            "New Line7\n",
            "\n",
            "New Line8\n",
            "\n",
            "New Line9\n",
            "\n",
            "New Line10\n",
            "\n"
          ]
        }
      ]
    },
    {
      "cell_type": "code",
      "source": [
        "with open('newfile.txt', 'r') as f:\n",
        "  data=f.read()\n",
        "print(type(data))\n",
        "print(data) "
      ],
      "metadata": {
        "colab": {
          "base_uri": "https://localhost:8080/"
        },
        "id": "bLqPv0-vG-yA",
        "outputId": "ea52b34b-badd-4f91-8aa6-cc04941c82c2"
      },
      "execution_count": 30,
      "outputs": [
        {
          "output_type": "stream",
          "name": "stdout",
          "text": [
            "<class 'str'>\n",
            "Line 1\n",
            "Line 2\n",
            "Line 3\n",
            "Line 4\n",
            "Line 5\n",
            "Line 6\n",
            "Line 7\n",
            "Line 8\n",
            "Line 9\n",
            "Line 10\n",
            "\n"
          ]
        }
      ]
    },
    {
      "cell_type": "markdown",
      "source": [
        "with open('newfile3.txt', 'w') as f:\n",
        "  f.write('Hello, World!\\n')\n",
        "with open('newfile3.txt', 'r') as f:\n",
        "  data=f.read()\n",
        "print(type(data))\n",
        "print(data)"
      ],
      "metadata": {
        "id": "Lv2QlFjIJ5Gq"
      }
    },
    {
      "cell_type": "code",
      "source": [
        "with open('newfile3.txt', 'a') as f:\n",
        "  f.write('Hello, students!\\n')\n",
        "with open('newfile3.txt', 'r') as f:\n",
        "  data=f.read()\n",
        "print(type(data))\n",
        "print(data)"
      ],
      "metadata": {
        "colab": {
          "base_uri": "https://localhost:8080/"
        },
        "id": "f2duhI0FPGzz",
        "outputId": "3b9ca4f3-6075-4fd0-ec11-28c9f41b77bf"
      },
      "execution_count": 32,
      "outputs": [
        {
          "output_type": "stream",
          "name": "stdout",
          "text": [
            "<class 'str'>\n",
            "Hello, World!\n",
            "Hello, students!\n",
            "\n"
          ]
        }
      ]
    },
    {
      "cell_type": "code",
      "source": [
        "os.remove('newfile3.txt')"
      ],
      "metadata": {
        "id": "cyPz1GisPsM9"
      },
      "execution_count": 33,
      "outputs": []
    }
  ]
}