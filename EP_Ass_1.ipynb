{
  "nbformat": 4,
  "nbformat_minor": 0,
  "metadata": {
    "colab": {
      "provenance": [],
      "include_colab_link": true
    },
    "kernelspec": {
      "name": "python3",
      "display_name": "Python 3"
    },
    "language_info": {
      "name": "python"
    }
  },
  "cells": [
    {
      "cell_type": "markdown",
      "metadata": {
        "id": "view-in-github",
        "colab_type": "text"
      },
      "source": [
        "<a href=\"https://colab.research.google.com/github/wharry103/Practice-repository/blob/main/EP_Ass_1.ipynb\" target=\"_parent\"><img src=\"https://colab.research.google.com/assets/colab-badge.svg\" alt=\"Open In Colab\"/></a>"
      ]
    },
    {
      "cell_type": "markdown",
      "source": [
        "# This is Assignment #1 of \"Introduction to Engineering Computer Programming\""
      ],
      "metadata": {
        "id": "ExW3fDnx20Fd"
      }
    },
    {
      "cell_type": "markdown",
      "source": [
        "1. Write a function called `find_largest` that takes a list of integers as input and returns the largest integer in the list. Test your function with a list of integers, `a = [1, 5, 8, 2, 9, 10, 4]`.\n",
        "\n",
        "* hint: use `max` function"
      ],
      "metadata": {
        "id": "bXHCcMMmu9Dl"
      }
    },
    {
      "cell_type": "code",
      "source": [
        "def find_largest(m):\n",
        "  return max(m)\n",
        "a=[1, 5, 8, 2, 9, 10,4]\n",
        "m=find_largest(a)\n",
        "print(m)"
      ],
      "metadata": {
        "id": "WQct1xF2vXq-",
        "outputId": "c81aaec3-cc3b-4728-f7e3-f5357c16e7fa",
        "colab": {
          "base_uri": "https://localhost:8080/",
          "height": 351
        }
      },
      "execution_count": 50,
      "outputs": [
        {
          "output_type": "error",
          "ename": "TypeError",
          "evalue": "ignored",
          "traceback": [
            "\u001b[0;31m---------------------------------------------------------------------------\u001b[0m",
            "\u001b[0;31mTypeError\u001b[0m                                 Traceback (most recent call last)",
            "\u001b[0;32m<ipython-input-50-e8a268c785a4>\u001b[0m in \u001b[0;36m<cell line: 4>\u001b[0;34m()\u001b[0m\n\u001b[1;32m      2\u001b[0m   \u001b[0;32mreturn\u001b[0m \u001b[0mmax\u001b[0m\u001b[0;34m(\u001b[0m\u001b[0mm\u001b[0m\u001b[0;34m)\u001b[0m\u001b[0;34m\u001b[0m\u001b[0;34m\u001b[0m\u001b[0m\n\u001b[1;32m      3\u001b[0m \u001b[0ma\u001b[0m\u001b[0;34m=\u001b[0m\u001b[0;34m[\u001b[0m\u001b[0;36m1\u001b[0m\u001b[0;34m,\u001b[0m \u001b[0;36m5\u001b[0m\u001b[0;34m,\u001b[0m \u001b[0;36m8\u001b[0m\u001b[0;34m,\u001b[0m \u001b[0;36m2\u001b[0m\u001b[0;34m,\u001b[0m \u001b[0;36m9\u001b[0m\u001b[0;34m,\u001b[0m \u001b[0;36m10\u001b[0m\u001b[0;34m,\u001b[0m\u001b[0;36m4\u001b[0m\u001b[0;34m]\u001b[0m\u001b[0;34m\u001b[0m\u001b[0;34m\u001b[0m\u001b[0m\n\u001b[0;32m----> 4\u001b[0;31m \u001b[0mm\u001b[0m\u001b[0;34m=\u001b[0m\u001b[0mfind_largest\u001b[0m\u001b[0;34m(\u001b[0m\u001b[0ma\u001b[0m\u001b[0;34m)\u001b[0m\u001b[0;34m\u001b[0m\u001b[0;34m\u001b[0m\u001b[0m\n\u001b[0m\u001b[1;32m      5\u001b[0m \u001b[0mprint\u001b[0m\u001b[0;34m(\u001b[0m\u001b[0mm\u001b[0m\u001b[0;34m)\u001b[0m\u001b[0;34m\u001b[0m\u001b[0;34m\u001b[0m\u001b[0m\n",
            "\u001b[0;32m<ipython-input-50-e8a268c785a4>\u001b[0m in \u001b[0;36mfind_largest\u001b[0;34m(m)\u001b[0m\n\u001b[1;32m      1\u001b[0m \u001b[0;32mdef\u001b[0m \u001b[0mfind_largest\u001b[0m\u001b[0;34m(\u001b[0m\u001b[0mm\u001b[0m\u001b[0;34m)\u001b[0m\u001b[0;34m:\u001b[0m\u001b[0;34m\u001b[0m\u001b[0;34m\u001b[0m\u001b[0m\n\u001b[0;32m----> 2\u001b[0;31m   \u001b[0;32mreturn\u001b[0m \u001b[0mmax\u001b[0m\u001b[0;34m(\u001b[0m\u001b[0mm\u001b[0m\u001b[0;34m)\u001b[0m\u001b[0;34m\u001b[0m\u001b[0;34m\u001b[0m\u001b[0m\n\u001b[0m\u001b[1;32m      3\u001b[0m \u001b[0ma\u001b[0m\u001b[0;34m=\u001b[0m\u001b[0;34m[\u001b[0m\u001b[0;36m1\u001b[0m\u001b[0;34m,\u001b[0m \u001b[0;36m5\u001b[0m\u001b[0;34m,\u001b[0m \u001b[0;36m8\u001b[0m\u001b[0;34m,\u001b[0m \u001b[0;36m2\u001b[0m\u001b[0;34m,\u001b[0m \u001b[0;36m9\u001b[0m\u001b[0;34m,\u001b[0m \u001b[0;36m10\u001b[0m\u001b[0;34m,\u001b[0m\u001b[0;36m4\u001b[0m\u001b[0;34m]\u001b[0m\u001b[0;34m\u001b[0m\u001b[0;34m\u001b[0m\u001b[0m\n\u001b[1;32m      4\u001b[0m \u001b[0mm\u001b[0m\u001b[0;34m=\u001b[0m\u001b[0mfind_largest\u001b[0m\u001b[0;34m(\u001b[0m\u001b[0ma\u001b[0m\u001b[0;34m)\u001b[0m\u001b[0;34m\u001b[0m\u001b[0;34m\u001b[0m\u001b[0m\n\u001b[1;32m      5\u001b[0m \u001b[0mprint\u001b[0m\u001b[0;34m(\u001b[0m\u001b[0mm\u001b[0m\u001b[0;34m)\u001b[0m\u001b[0;34m\u001b[0m\u001b[0;34m\u001b[0m\u001b[0m\n",
            "\u001b[0;31mTypeError\u001b[0m: 'list' object is not callable"
          ]
        }
      ]
    },
    {
      "cell_type": "markdown",
      "source": [
        "2. Write a function called `count_vowels` that takes a string as input and returns the count of vowels (a, e, i, o, u) in the string. Test your function with `\"Hello World!\"`\n",
        "\n",
        "* hint: use `for` and `if`"
      ],
      "metadata": {
        "id": "7eVyT1ypvQm5"
      }
    },
    {
      "cell_type": "code",
      "execution_count": 9,
      "metadata": {
        "id": "9Q8h2B45u4d6",
        "outputId": "82271866-b8c4-467c-d84e-f0e198bdb6b8",
        "colab": {
          "base_uri": "https://localhost:8080/"
        }
      },
      "outputs": [
        {
          "output_type": "stream",
          "name": "stdout",
          "text": [
            "3\n"
          ]
        }
      ],
      "source": [
        "def count_vowels(string):\n",
        "  vowels=\"aeiou\"\n",
        "  count=0\n",
        "  for char in string:\n",
        "    if char in vowels:\n",
        "      count+=1\n",
        "  return count\n",
        "print(count_vowels  (\"Hello World!\"))"
      ]
    },
    {
      "cell_type": "markdown",
      "source": [
        "3. Write a function called `convert_temperature` that takes a temperature value in Fahrenheit and converts it to Celsius. The function should return the converted temperature value. Test your function with different Fahrenheit values.\n",
        "\n",
        "* hint: `celsius = (fahrenheit - 32) * 5 / 9`"
      ],
      "metadata": {
        "id": "tBgqsqLpvomE"
      }
    },
    {
      "cell_type": "code",
      "source": [
        "def convert_temperature(fahrenheit):\n",
        " celsius=(fahrenheit-32)*5/9\n",
        " return celsius\n",
        "print(convert_temperature(213))"
      ],
      "metadata": {
        "id": "XhRFdMAGv6Om",
        "outputId": "b5bc2b17-8a6b-4a25-db19-33ab45bb4bae",
        "colab": {
          "base_uri": "https://localhost:8080/"
        }
      },
      "execution_count": 15,
      "outputs": [
        {
          "output_type": "stream",
          "name": "stdout",
          "text": [
            "100.55555555555556\n"
          ]
        }
      ]
    },
    {
      "cell_type": "markdown",
      "source": [
        "4. Write a function called grade_calculator that takes a list of student scores as input and returns a list of letter grades (A, B, C, D, or F) based on the following criteria:\n",
        "\n",
        " * A: 90-100\n",
        " * B: 80-89\n",
        " * C: 70-79\n",
        " * D: 60-69\n",
        " * F: 0-59\n",
        "\n",
        "Test your function with a list of student scores, `scores = [85, 92, 75, 60, 45]`.\n",
        "\n",
        " * hint: use `if`, `elif`, and `else`"
      ],
      "metadata": {
        "id": "Ax2N-gBvw6gk"
      }
    },
    {
      "cell_type": "code",
      "source": [
        "def grade_calculator(scores):\n",
        "  grades=[]\n",
        "  for score in scores:\n",
        "   if score >=90:\n",
        "     grades.append(\"A\")\n",
        "   elif score >=80:\n",
        "     grades.append(\"B\")\n",
        "   elif score >=70:\n",
        "     grades.append(\"C\")\n",
        "   elif score >=60:\n",
        "     grades.append(\"D\")\n",
        "   else:\n",
        "     grades.append(\"F\")\n",
        "  return grades\n",
        "scores=[85, 92, 75, 60, 45]\n",
        "print(grade_calculator(scores))"
      ],
      "metadata": {
        "id": "GDEi8iL7w4ee",
        "outputId": "c8d8b80b-1667-4bf9-b1e0-75b7826727f6",
        "colab": {
          "base_uri": "https://localhost:8080/"
        }
      },
      "execution_count": 9,
      "outputs": [
        {
          "output_type": "stream",
          "name": "stdout",
          "text": [
            "['B', 'A', 'C', 'D', 'F']\n"
          ]
        }
      ]
    },
    {
      "cell_type": "markdown",
      "source": [
        "5. Write a function called `common_elements` that takes two lists as input and returns a list of the common elements (without duplicates) between the two lists. Test your function with two different pairs of lists, `[1, 3, 5, 7, 9]` and `[2, 3, 4, 5, 6]`.\n",
        "\n",
        "* hint: use `set` and `&`"
      ],
      "metadata": {
        "id": "kSk4V_j4ykJP"
      }
    },
    {
      "cell_type": "code",
      "source": [
        "def common_elements(list1, list2):\n",
        "  return list(set(list1)&set(list2))\n",
        "list1=[1, 3, 5, 7, 9]\n",
        "list2=[2, 3, 4, 5, 6]\n",
        "common=common_elements(list1, list2)\n",
        "print(common)"
      ],
      "metadata": {
        "id": "KpO2_1bNyjlD",
        "outputId": "d7991785-4c0f-4bbc-a7fe-4d8b7d25035b",
        "colab": {
          "base_uri": "https://localhost:8080/"
        }
      },
      "execution_count": 34,
      "outputs": [
        {
          "output_type": "stream",
          "name": "stdout",
          "text": [
            "[3, 5]\n"
          ]
        }
      ]
    },
    {
      "cell_type": "markdown",
      "source": [
        "6. Write a Python to check if a given number is even or odd using control statements.\n",
        "\n",
        "* hint: use `num % 2 == 0`"
      ],
      "metadata": {
        "id": "ntSpzCg62pfl"
      }
    },
    {
      "cell_type": "code",
      "source": [],
      "metadata": {
        "id": "R_NvgRrj3RKW"
      },
      "execution_count": null,
      "outputs": []
    },
    {
      "cell_type": "markdown",
      "source": [
        "7. Write a Python program to find the sum of all elements in a list using loops. Test your program with a list, `numbers = [10, 20, 30, 40, 50]`.\n",
        "\n",
        "* hint: use `for` and `+=`"
      ],
      "metadata": {
        "id": "WBogUGrf3giN"
      }
    },
    {
      "cell_type": "code",
      "source": [
        "# Write your code here and prouce the result"
      ],
      "metadata": {
        "id": "30e3ku5t31ik"
      },
      "execution_count": null,
      "outputs": []
    },
    {
      "cell_type": "markdown",
      "source": [
        "8. Write a Python program to find the number of digits (자릿수) in a given integer using functions.\n",
        "\n",
        "* hint: for a given integer `num`, use the following code.\n",
        "    \n",
        "```python\n",
        "    while num != 0:\n",
        "        count += 1\n",
        "        num //= 10\n",
        "    return count\n",
        "```\n",
        "* `//` is for Floor division (나눗셈의 몫을 내림, 예 7 // 2 = 3)"
      ],
      "metadata": {
        "id": "EUJQSZCv4c35"
      }
    },
    {
      "cell_type": "code",
      "source": [
        "# Write your code here and prouce the result"
      ],
      "metadata": {
        "id": "x7dsB2PZ4L_T"
      },
      "execution_count": null,
      "outputs": []
    },
    {
      "cell_type": "markdown",
      "source": [
        "9. Complete the following Python program to reverse a given string using loops.\n",
        "\n",
        "* hint: read each character from the string by using `for` and add (`+`) one by one in sequence."
      ],
      "metadata": {
        "id": "lWHVIEjOA3bV"
      }
    },
    {
      "cell_type": "code",
      "source": [
        "# Complete the following python code and prouce the result\n",
        "\n",
        "string = input(\"Enter a string: \")\n",
        "reverse = \"\"\n",
        "for char in string:\n",
        "    ### write a code here ###\n",
        "    \n",
        "print(\"Reverse of the string:\", reverse)"
      ],
      "metadata": {
        "id": "3qBhrc1wBj2T"
      },
      "execution_count": null,
      "outputs": []
    },
    {
      "cell_type": "markdown",
      "source": [
        "10. Write a function called `is_perfect_square` that check if a given number is a perfect square (완전제곱수) or not. Test your function with different numbers.\n",
        "\n",
        "* hint: use `sqrt` (제곱근) from `math` and check if the number has decimal points or not."
      ],
      "metadata": {
        "id": "6V5Fma7PCUMd"
      }
    },
    {
      "cell_type": "code",
      "source": [
        "# Complete the following python code and prouce the result\n",
        "\n",
        "import math\n",
        "\n",
        "def is_perfect_square(num):\n",
        "    sqrt = math.sqrt(num)\n",
        "    "
      ],
      "metadata": {
        "id": "uzrOFUHEDdE2"
      },
      "execution_count": null,
      "outputs": []
    }
  ]
}